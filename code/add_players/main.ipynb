{
 "cells": [
  {
   "cell_type": "code",
   "execution_count": 5,
   "metadata": {},
   "outputs": [
    {
     "name": "stdout",
     "output_type": "stream",
     "text": [
      "Uploaded Mouloudia Club d'Alger - MCA\n",
      "Uploaded Chabab Riadhi Belouizdad - CRB\n",
      "Uploaded Union sportive de la mÃ©dina d'Alger - USMA\n",
      "Uploaded Jeunesse sportive de Kabylie - JSK\n",
      "Uploaded Paradou Athletic Club - PAC\n",
      "Uploaded Club sportif constantinois - CSC\n",
      "Uploaded Entente sportive sÃ©tifienne - ESS\n",
      "Uploaded Association sportive olympique de Chlef - ASOC\n",
      "Uploaded Union sportive madinet Khenchela - USMK\n",
      "Uploaded Olympique Akbou - OA\n",
      "Uploaded Mouloudia Club d'Oran - MCO\n",
      "Uploaded Mouloudia Club El Bayadh - MCB\n",
      "Uploaded Jeunesse sportive de Saoura - JSS\n",
      "Uploaded Nadjem Chabab Magra - NCM\n",
      "Uploaded EspÃ©rance sportive de Mostaganem - ESM\n",
      "Uploaded Union sportive de Biskra - USB\n"
     ]
    }
   ],
   "source": [
    "import json\n",
    "import firebase_admin\n",
    "from firebase_admin import credentials, firestore\n",
    "\n",
    "# Check if the default app is already initialized\n",
    "if not firebase_admin._apps:\n",
    "    cred = credentials.Certificate(\"serviceAccountKey.json\")\n",
    "    firebase_admin.initialize_app(cred)\n",
    "\n",
    "db = firestore.client()  # Use `firebase_admin.db` for Realtime Database\n",
    "\n",
    "# Load the JSON file\n",
    "with open(\"Algerian_fantasy_data.json\", \"r\") as file:\n",
    "    data = json.load(file)\n",
    "\n",
    "# Upload data to Firestore\n",
    "def upload_to_firestore(data):\n",
    "    clubs = data.get(\"clubs\", [])\n",
    "    for club in clubs:\n",
    "        club_name = club.get(\"club_name\")\n",
    "        doc_ref = db.collection(\"clubs\").document(club_name)\n",
    "        doc_ref.set({\n",
    "            \"kit_image_url\": club.get(\"kit_image_url\"),\n",
    "            \"players\": club.get(\"players\")\n",
    "        })\n",
    "        print(f\"Uploaded {club_name}\")\n",
    "\n",
    "upload_to_firestore(data)\n"
   ]
  },
  {
   "cell_type": "code",
   "execution_count": null,
   "metadata": {},
   "outputs": [],
   "source": []
  }
 ],
 "metadata": {
  "kernelspec": {
   "display_name": "Python 3",
   "language": "python",
   "name": "python3"
  },
  "language_info": {
   "codemirror_mode": {
    "name": "ipython",
    "version": 3
   },
   "file_extension": ".py",
   "mimetype": "text/x-python",
   "name": "python",
   "nbconvert_exporter": "python",
   "pygments_lexer": "ipython3",
   "version": "3.11.9"
  }
 },
 "nbformat": 4,
 "nbformat_minor": 2
}
